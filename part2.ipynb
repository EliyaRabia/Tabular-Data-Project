{
 "cells": [
  {
   "cell_type": "code",
   "execution_count": null,
   "metadata": {},
   "outputs": [],
   "source": [
    "import warnings\n",
    "warnings.filterwarnings(\"ignore\")\n",
    "\n",
    "# Load the dataset\n",
    "data = pd.read_csv('./data/laptopData.csv')\n",
    "\n",
    "# Rename the column 'Unnamed: 0' to 'ID'\n",
    "data.rename(columns={'Unnamed: 0': 'ID'}, inplace=True)\n",
    "\n",
    "# Define the adjusted exchange rate based on a specific example\n",
    "price_in_pkr_example = 47895.5232  # Example price in PKR\n",
    "target_price_usd = 1000  # Desired average price in USD\n",
    "adjusted_exchange_rate = price_in_pkr_example / target_price_usd\n",
    "\n",
    "# Remove rows with NaN values in the 'Price' column\n",
    "data = data[~data['Price'].isna()]\n",
    "\n",
    "\n",
    "# Convert the 'Price' column to USD and replace the original column\n",
    "data['Price'] = data['Price'] / adjusted_exchange_rate\n",
    "\n",
    "# Create a copy of the original DataFrame\n",
    "copy_data = data.copy()\n",
    "\n",
    "# Display rows number\n",
    "print(\"Number of rows in the original DataFrame:\", data.shape[0])\n",
    "\n",
    "#display data types of each column\n",
    "print(\"Data types:\" )\n",
    "print(data.dtypes)\n",
    "\n",
    "# Display the first few rows of the modified DataFrame\n",
    "data.head()"
   ]
  }
 ],
 "metadata": {
  "language_info": {
   "name": "python"
  }
 },
 "nbformat": 4,
 "nbformat_minor": 2
}
